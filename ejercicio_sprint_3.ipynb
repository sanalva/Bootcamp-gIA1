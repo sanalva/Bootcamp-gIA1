{
 "cells": [
  {
   "cell_type": "code",
   "execution_count": null,
   "metadata": {},
   "outputs": [],
   "source": [
    "import torch\n",
    "from diffusers import StableDiffusionPipeline, EulerAncestralDiscreteScheduler\n",
    "from PIL import Image\n",
    "import os\n",
    "\n",
    "device = \"cuda\" if torch.cuda.is_available() else \"cpu\"\n",
    "model_id = \"stabilityai/stable-diffusion-2-1-base\"\n",
    "\n",
    "pipe = StableDiffusionPipeline.from_pretrained(model_id)\n",
    "pipe.scheduler = EulerAncestralDiscreteScheduler.from_config(pipe.scheduler.config)\n",
    "pipe = pipe.to(device)\n",
    "\n",
    "output_dir = \"generated_images\"\n",
    "os.makedirs(output_dir, exist_ok=True)\n",
    "\n",
    "def generate_image(prompt, filename, guidance_scale=7.5, num_inference_steps=50):\n",
    "    \"\"\"Genera una imagen con el prompt dado y la guarda en disco.\"\"\"\n",
    "    image = pipe(prompt, guidance_scale=guidance_scale, num_inference_steps=num_inference_steps).images[0]\n",
    "    image_path = os.path.join(output_dir, filename)\n",
    "    image.save(image_path)\n",
    "    return image_path\n",
    "\n",
    "\n",
    "\n",
    "def generate_variation(input_image_path, prompt, filename, strength=0.5):\n",
    "    \"\"\"Genera una variación de una imagen base con un prompt dado.\"\"\"\n",
    "    image = Image.open(input_image_path).convert(\"RGB\")\n",
    "    image = pipe(prompt, image=image, strength=strength).images[0]\n",
    "    image_path = os.path.join(output_dir, filename)\n",
    "    image.save(image_path)\n",
    "    return image_path\n",
    "\n"
   ]
  },
  {
   "cell_type": "code",
   "execution_count": null,
   "metadata": {},
   "outputs": [],
   "source": [
    "prompt_1 = \"A high-resolution product photo of modern running sneakers on a white background\"\n",
    "image_path_1 = generate_image(prompt_1, \"sneakers.png\")"
   ]
  },
  {
   "cell_type": "code",
   "execution_count": null,
   "metadata": {},
   "outputs": [],
   "source": [
    "prompt_2 = \"A luxury leather handbag with gold accents, studio lighting, white background\"\n",
    "image_path_2 = generate_image(prompt_2, \"handbag.png\")"
   ]
  },
  {
   "cell_type": "code",
   "execution_count": null,
   "metadata": {},
   "outputs": [],
   "source": [
    "# Variación de una imagen base\n",
    "prompt_variation = \"A pair of modern running sneakers with a blue and white color scheme\"\n",
    "variation_path = generate_variation(image_path_1, prompt_variation, \"sneakers_variation.png\")\n",
    "\n",
    "print(\"Imágenes generadas y guardadas en:\", output_dir)"
   ]
  }
 ],
 "metadata": {
  "kernelspec": {
   "display_name": "base",
   "language": "python",
   "name": "python3"
  },
  "language_info": {
   "codemirror_mode": {
    "name": "ipython",
    "version": 3
   },
   "file_extension": ".py",
   "mimetype": "text/x-python",
   "name": "python",
   "nbconvert_exporter": "python",
   "pygments_lexer": "ipython3",
   "version": "3.11.7"
  }
 },
 "nbformat": 4,
 "nbformat_minor": 2
}
